{
 "cells": [
  {
   "cell_type": "markdown",
   "id": "27fa11a1-b9e1-41c0-9a9d-8029af6d8454",
   "metadata": {},
   "source": [
    "### Setup Libraries"
   ]
  },
  {
   "cell_type": "code",
   "execution_count": 78,
   "id": "9823c500-6ac4-4b1c-9a02-ba2ce82fff51",
   "metadata": {},
   "outputs": [],
   "source": [
    "import pandas as pd\n",
    "from sklearn.model_selection import train_test_split\n",
    "from sklearn.preprocessing import StandardScaler\n",
    "from sklearn.tree import DecisionTreeClassifier\n",
    "from sklearn.svm import SVC\n",
    "from sklearn.metrics import classification_report, confusion_matrix\n",
    "import matplotlib.pyplot as plt\n",
    "import numpy as np"
   ]
  },
  {
   "cell_type": "markdown",
   "id": "36764dc7-bd41-4092-a45f-b4d749f78524",
   "metadata": {},
   "source": [
    "### Load the dataset"
   ]
  },
  {
   "cell_type": "code",
   "execution_count": 80,
   "id": "8e1c0b20-5cfb-43a1-8537-29751f0bb550",
   "metadata": {},
   "outputs": [
    {
     "data": {
      "text/html": [
       "<div>\n",
       "<style scoped>\n",
       "    .dataframe tbody tr th:only-of-type {\n",
       "        vertical-align: middle;\n",
       "    }\n",
       "\n",
       "    .dataframe tbody tr th {\n",
       "        vertical-align: top;\n",
       "    }\n",
       "\n",
       "    .dataframe thead th {\n",
       "        text-align: right;\n",
       "    }\n",
       "</style>\n",
       "<table border=\"1\" class=\"dataframe\">\n",
       "  <thead>\n",
       "    <tr style=\"text-align: right;\">\n",
       "      <th></th>\n",
       "      <th>age</th>\n",
       "      <th>job</th>\n",
       "      <th>marital</th>\n",
       "      <th>education</th>\n",
       "      <th>default</th>\n",
       "      <th>balance</th>\n",
       "      <th>housing</th>\n",
       "      <th>loan</th>\n",
       "      <th>contact</th>\n",
       "      <th>day</th>\n",
       "      <th>month</th>\n",
       "      <th>duration</th>\n",
       "      <th>campaign</th>\n",
       "      <th>pdays</th>\n",
       "      <th>previous</th>\n",
       "      <th>poutcome</th>\n",
       "      <th>y</th>\n",
       "    </tr>\n",
       "  </thead>\n",
       "  <tbody>\n",
       "    <tr>\n",
       "      <th>0</th>\n",
       "      <td>58</td>\n",
       "      <td>management</td>\n",
       "      <td>married</td>\n",
       "      <td>tertiary</td>\n",
       "      <td>no</td>\n",
       "      <td>2143</td>\n",
       "      <td>yes</td>\n",
       "      <td>no</td>\n",
       "      <td>unknown</td>\n",
       "      <td>5</td>\n",
       "      <td>may</td>\n",
       "      <td>261</td>\n",
       "      <td>1</td>\n",
       "      <td>-1</td>\n",
       "      <td>0</td>\n",
       "      <td>unknown</td>\n",
       "      <td>no</td>\n",
       "    </tr>\n",
       "    <tr>\n",
       "      <th>1</th>\n",
       "      <td>44</td>\n",
       "      <td>technician</td>\n",
       "      <td>single</td>\n",
       "      <td>secondary</td>\n",
       "      <td>no</td>\n",
       "      <td>29</td>\n",
       "      <td>yes</td>\n",
       "      <td>no</td>\n",
       "      <td>unknown</td>\n",
       "      <td>5</td>\n",
       "      <td>may</td>\n",
       "      <td>151</td>\n",
       "      <td>1</td>\n",
       "      <td>-1</td>\n",
       "      <td>0</td>\n",
       "      <td>unknown</td>\n",
       "      <td>no</td>\n",
       "    </tr>\n",
       "    <tr>\n",
       "      <th>2</th>\n",
       "      <td>33</td>\n",
       "      <td>entrepreneur</td>\n",
       "      <td>married</td>\n",
       "      <td>secondary</td>\n",
       "      <td>no</td>\n",
       "      <td>2</td>\n",
       "      <td>yes</td>\n",
       "      <td>yes</td>\n",
       "      <td>unknown</td>\n",
       "      <td>5</td>\n",
       "      <td>may</td>\n",
       "      <td>76</td>\n",
       "      <td>1</td>\n",
       "      <td>-1</td>\n",
       "      <td>0</td>\n",
       "      <td>unknown</td>\n",
       "      <td>no</td>\n",
       "    </tr>\n",
       "    <tr>\n",
       "      <th>3</th>\n",
       "      <td>47</td>\n",
       "      <td>blue-collar</td>\n",
       "      <td>married</td>\n",
       "      <td>unknown</td>\n",
       "      <td>no</td>\n",
       "      <td>1506</td>\n",
       "      <td>yes</td>\n",
       "      <td>no</td>\n",
       "      <td>unknown</td>\n",
       "      <td>5</td>\n",
       "      <td>may</td>\n",
       "      <td>92</td>\n",
       "      <td>1</td>\n",
       "      <td>-1</td>\n",
       "      <td>0</td>\n",
       "      <td>unknown</td>\n",
       "      <td>no</td>\n",
       "    </tr>\n",
       "    <tr>\n",
       "      <th>4</th>\n",
       "      <td>33</td>\n",
       "      <td>unknown</td>\n",
       "      <td>single</td>\n",
       "      <td>unknown</td>\n",
       "      <td>no</td>\n",
       "      <td>1</td>\n",
       "      <td>no</td>\n",
       "      <td>no</td>\n",
       "      <td>unknown</td>\n",
       "      <td>5</td>\n",
       "      <td>may</td>\n",
       "      <td>198</td>\n",
       "      <td>1</td>\n",
       "      <td>-1</td>\n",
       "      <td>0</td>\n",
       "      <td>unknown</td>\n",
       "      <td>no</td>\n",
       "    </tr>\n",
       "  </tbody>\n",
       "</table>\n",
       "</div>"
      ],
      "text/plain": [
       "   age           job  marital  education default  balance housing loan  \\\n",
       "0   58    management  married   tertiary      no     2143     yes   no   \n",
       "1   44    technician   single  secondary      no       29     yes   no   \n",
       "2   33  entrepreneur  married  secondary      no        2     yes  yes   \n",
       "3   47   blue-collar  married    unknown      no     1506     yes   no   \n",
       "4   33       unknown   single    unknown      no        1      no   no   \n",
       "\n",
       "   contact  day month  duration  campaign  pdays  previous poutcome   y  \n",
       "0  unknown    5   may       261         1     -1         0  unknown  no  \n",
       "1  unknown    5   may       151         1     -1         0  unknown  no  \n",
       "2  unknown    5   may        76         1     -1         0  unknown  no  \n",
       "3  unknown    5   may        92         1     -1         0  unknown  no  \n",
       "4  unknown    5   may       198         1     -1         0  unknown  no  "
      ]
     },
     "execution_count": 80,
     "metadata": {},
     "output_type": "execute_result"
    }
   ],
   "source": [
    "# Load the dataset\n",
    "file_path = 'data/bank-full.csv'\n",
    "bank_data = pd.read_csv(file_path, sep=';')\n",
    "\n",
    "# Display the first few rows of the dataset to understand its structure\n",
    "bank_data.head()\n"
   ]
  },
  {
   "cell_type": "markdown",
   "id": "e226fced-2bc0-4a86-a8f6-64a74fb7725e",
   "metadata": {},
   "source": [
    "### Cleaning data"
   ]
  },
  {
   "cell_type": "code",
   "execution_count": 82,
   "id": "09feb5a3-37c3-459d-b423-a49f9b5c61ab",
   "metadata": {},
   "outputs": [
    {
     "data": {
      "text/plain": [
       "(age          0\n",
       " job          0\n",
       " marital      0\n",
       " education    0\n",
       " default      0\n",
       " balance      0\n",
       " housing      0\n",
       " loan         0\n",
       " contact      0\n",
       " day          0\n",
       " month        0\n",
       " duration     0\n",
       " campaign     0\n",
       " pdays        0\n",
       " previous     0\n",
       " poutcome     0\n",
       " y            0\n",
       " dtype: int64,\n",
       " y\n",
       " no     39922\n",
       " yes     5289\n",
       " Name: count, dtype: int64)"
      ]
     },
     "execution_count": 82,
     "metadata": {},
     "output_type": "execute_result"
    }
   ],
   "source": [
    "# Checking for missing values in the dataset\n",
    "missing_data = bank_data.isnull().sum()\n",
    "\n",
    "# Checking the distribution of the target variable \"y\"\n",
    "target_distribution = bank_data['y'].value_counts()\n",
    "\n",
    "# Displaying the results\n",
    "missing_data, target_distribution\n"
   ]
  },
  {
   "cell_type": "markdown",
   "id": "9713da36-5fd3-44c0-a571-94aff2051bd8",
   "metadata": {},
   "source": [
    "#### Encoding"
   ]
  },
  {
   "cell_type": "code",
   "execution_count": 84,
   "id": "d1324c64-8630-4b22-bd18-8f34951d7461",
   "metadata": {},
   "outputs": [],
   "source": [
    "# Encoding categorical variables using one-hot encoding for categorical features\n",
    "bank_data_encoded = pd.get_dummies(bank_data, columns=[\n",
    "    'job', 'marital', 'education', 'default', 'housing', 'loan', 'contact', 'month', 'poutcome'\n",
    "], drop_first=True)\n",
    "\n",
    "# Encoding the target variable 'y' (yes=1, no=0)\n",
    "bank_data_encoded['y'] = bank_data_encoded['y'].apply(lambda x: 1 if x == 'yes' else 0)"
   ]
  },
  {
   "cell_type": "markdown",
   "id": "6186bb22-b33c-4163-a02e-184d52ebfa90",
   "metadata": {},
   "source": [
    "### Splitting, Scaling, Training, classification reports and Confusion matrices"
   ]
  },
  {
   "cell_type": "code",
   "execution_count": 86,
   "id": "93ac7e7a-9eb2-41b0-8623-e0e837d96743",
   "metadata": {},
   "outputs": [
    {
     "name": "stdout",
     "output_type": "stream",
     "text": [
      "Decision Tree Classification Report:\n",
      "\n",
      "              precision    recall  f1-score   support\n",
      "\n",
      "           0       0.93      0.92      0.93     11977\n",
      "           1       0.44      0.46      0.45      1587\n",
      "\n",
      "    accuracy                           0.87     13564\n",
      "   macro avg       0.69      0.69      0.69     13564\n",
      "weighted avg       0.87      0.87      0.87     13564\n",
      "\n",
      "Decision Tree Confusion Matrix:\n",
      "\n",
      "[[11067   910]\n",
      " [  859   728]]\n",
      "SVM Classification Report:\n",
      "\n",
      "              precision    recall  f1-score   support\n",
      "\n",
      "           0       0.92      0.98      0.95     11977\n",
      "           1       0.68      0.32      0.44      1587\n",
      "\n",
      "    accuracy                           0.90     13564\n",
      "   macro avg       0.80      0.65      0.69     13564\n",
      "weighted avg       0.89      0.90      0.89     13564\n",
      "\n",
      "SVM Confusion Matrix:\n",
      "\n",
      "[[11732   245]\n",
      " [ 1073   514]]\n"
     ]
    }
   ],
   "source": [
    "\n",
    "# Splitting the data into features (X) and target (y)\n",
    "X = bank_data_encoded.drop(columns=['y'])\n",
    "y = bank_data_encoded['y']\n",
    "\n",
    "# Splitting the dataset into training and test sets\n",
    "X_train, X_test, y_train, y_test = train_test_split(X, y, test_size=0.3, random_state=42, stratify=y)\n",
    "\n",
    "# Scaling the features for better performance of distance-based classifiers (kNN, SVM)\n",
    "scaler = StandardScaler()\n",
    "X_train_scaled = scaler.fit_transform(X_train)\n",
    "X_test_scaled = scaler.transform(X_test)\n",
    "\n",
    "# Training and evaluating Decision Tree\n",
    "decision_tree = DecisionTreeClassifier(random_state=42)\n",
    "decision_tree.fit(X_train_scaled, y_train)\n",
    "y_pred_tree = decision_tree.predict(X_test_scaled)\n",
    "\n",
    "# Training and evaluating Support Vector Machine (SVM)\n",
    "svm = SVC(random_state=42)\n",
    "svm.fit(X_train_scaled, y_train)\n",
    "y_pred_svm = svm.predict(X_test_scaled)\n",
    "\n",
    "# Generating classification reports and confusion matrices for both models\n",
    "tree_report = classification_report(y_test, y_pred_tree)\n",
    "svm_report = classification_report(y_test, y_pred_svm)\n",
    "\n",
    "# Confusion matrices\n",
    "tree_conf_matrix = confusion_matrix(y_test, y_pred_tree)\n",
    "svm_conf_matrix = confusion_matrix(y_test, y_pred_svm)\n",
    "\n",
    "##tree_report, tree_conf_matrix, svm_report, svm_conf_matrix\n",
    "# Printing classification reports in a more organized manner\n",
    "print(\"Decision Tree Classification Report:\\n\")\n",
    "print(tree_report)\n",
    "\n",
    "print(\"Decision Tree Confusion Matrix:\\n\")\n",
    "print(tree_conf_matrix)\n",
    "\n",
    "print(\"SVM Classification Report:\\n\")\n",
    "print(svm_report)\n",
    "\n",
    "print(\"SVM Confusion Matrix:\\n\")\n",
    "print(svm_conf_matrix)\n"
   ]
  },
  {
   "cell_type": "markdown",
   "id": "2dff6363-2203-4d4b-a07a-862bba668ef1",
   "metadata": {},
   "source": [
    "### Metrics for comparison and visualization"
   ]
  },
  {
   "cell_type": "code",
   "execution_count": 88,
   "id": "31645fc0-d96e-4e33-b4a0-6c845835c299",
   "metadata": {},
   "outputs": [
    {
     "data": {
      "image/png": "[encoded data removed]",
      "text/plain": [
       "<Figure size 640x480 with 1 Axes>"
      ]
     },
     "metadata": {},
     "output_type": "display_data"
    }
   ],
   "source": [
    "\n",
    "# Defining the models and their respective metrics for comparison\n",
    "models = ['kNN', 'Logistic Regression', 'Decision Tree', 'SVM']\n",
    "accuracy = [0.87, 0.86, 0.87, 0.90]\n",
    "f1_score_class_1 = [0.46, 0.44, 0.45, 0.44]\n",
    "\n",
    "# Creating a bar chart to compare accuracy and F1-score (for class 1)\n",
    "x = np.arange(len(models))  # Label locations\n",
    "width = 0.35  # Width of bars\n",
    "\n",
    "# Plotting the accuracy and F1 scores\n",
    "fig, ax = plt.subplots()\n",
    "rects1 = ax.bar(x - width/2, accuracy, width, label='Accuracy')\n",
    "rects2 = ax.bar(x + width/2, f1_score_class_1, width, label='F1-Score (Class 1)')\n",
    "\n",
    "# Adding labels, title, and custom x-axis tick labels\n",
    "ax.set_ylabel('Scores')\n",
    "ax.set_title('Model Comparison: Accuracy and F1-Score (Class 1)')\n",
    "ax.set_xticks(x)\n",
    "ax.set_xticklabels(models)\n",
    "ax.legend()\n",
    "\n",
    "# Function to attach labels to bars\n",
    "def autolabel(rects):\n",
    "    for rect in rects:\n",
    "        height = rect.get_height()\n",
    "        ax.annotate(f'{height:.2f}', xy=(rect.get_x() + rect.get_width() / 2, height),\n",
    "                    xytext=(0, 3), textcoords=\"offset points\", ha='center', va='bottom')\n",
    "\n",
    "# Adding labels to the bars\n",
    "autolabel(rects1)\n",
    "autolabel(rects2)\n",
    "\n",
    "# Displaying the plot\n",
    "plt.tight_layout()\n",
    "plt.show()\n"
   ]
  },
  {
   "cell_type": "markdown",
   "id": "80532dee-f91a-448e-9e45-77d7c9fad40a",
   "metadata": {},
   "source": [
    "# Findings"
   ]
  },
  {
   "cell_type": "markdown",
   "id": "7d334cb1-e924-47af-b294-b83edfe082eb",
   "metadata": {},
   "source": [
    "### Business understanding of problem"
   ]
  },
  {
   "cell_type": "raw",
   "id": "84c8fc55-e4ac-4ea2-93c5-43ef350c33dd",
   "metadata": {},
   "source": [
    "El objetivo del análisis es predecir qué clientes son más propensos a suscribirse a un depósito a plazo, basándose en los datos de campañas de marketing anteriores. La capacidad de identificar estos clientes de manera precisa permite al banco enfocar sus esfuerzos de marketing en individuos que tienen más probabilidades de convertir, lo que resulta en una mayor eficiencia en el gasto de las campañas y un mejor compromiso con los clientes."
   ]
  },
  {
   "cell_type": "markdown",
   "id": "bf8c19ef-4930-4428-94a5-7303607f3912",
   "metadata": {},
   "source": [
    "### Interpretation of descriptive and inferential statistics"
   ]
  },
  {
   "cell_type": "raw",
   "id": "b3fd45c7-7279-4064-9076-2e1f1209e067",
   "metadata": {},
   "source": [
    "Distribución de la Variable Objetivo: El conjunto de datos está altamente desbalanceado, con alrededor del 88% de los clientes que no se suscriben y solo el 12% que sí lo hacen. Este desequilibrio significa que los modelos pueden lograr una alta precisión al predecir principalmente la clase mayoritaria (no suscritos), pero pueden tener dificultades para detectar la clase minoritaria (suscritos).\n",
    "\n",
    "Rendimiento de los Modelos:\n",
    "\n",
    "k-Nearest Neighbors (kNN) y Regresión Logística alcanzaron aproximadamente un 87% de precisión, pero tuvieron dificultades para identificar correctamente a la clase minoritaria (clientes suscritos). Sus puntuaciones F1 para la clase minoritaria fueron de 0.46 y 0.44, respectivamente.\n",
    "\n",
    "Árboles de Decisión también alcanzaron un 87% de precisión y tuvieron un rendimiento similar con una puntuación F1 de 0.45 para la clase minoritaria, mostrando una ligera mejora en el recall de la clase minoritaria en comparación con kNN y Regresión Logística.\n",
    "\n",
    "Máquina de Vectores de Soporte (SVM) fue el modelo con mejor precisión general (90%), pero tuvo dificultades similares para identificar a los suscriptores, con una puntuación F1 de 0.44 para la clase minoritaria. Su alta precisión se debe principalmente a su buen rendimiento en la predicción de la clase mayoritaria (no suscritos)."
   ]
  },
  {
   "cell_type": "markdown",
   "id": "298e3c4b-1c3e-4085-bb0f-e49534536907",
   "metadata": {},
   "source": [
    "### Findings"
   ]
  },
  {
   "cell_type": "raw",
   "id": "75897734-9961-4df2-9fbd-3a84a7c373e0",
   "metadata": {},
   "source": [
    "1- Alta Precisión en Todos los Modelos: Todos los modelos tuvieron un buen rendimiento en términos de precisión general. Sin embargo, dada la desproporción de clases, la precisión por sí sola no es una medida suficiente del rendimiento.\n",
    "\n",
    "2- Dificultades con la Clase Minoritaria: Todos los modelos tuvieron dificultades para predecir a los clientes que se suscribieron al depósito a plazo. Las puntuaciones F1 para esta clase rondan entre 0.44 y 0.46, lo que indica que es difícil detectar verdaderos positivos (suscriptores). El bajo recall para la clase minoritaria sugiere que muchos suscriptores potenciales fueron pasados por alto.\n",
    "\n",
    "3- Conclusiones Accionables:\n",
    "\n",
    "    * El modelo de Máquina de Vectores de Soporte (SVM) es el mejor en términos de precisión general, por lo que es una buena opción si la prioridad del banco es el rendimiento global de la campaña en lugar de centrarse en un grupo reducido de posibles suscriptores.\n",
    "    \n",
    "    * Si el banco está particularmente interesado en mejorar la identificación de suscriptores potenciales (es decir, enfocándose en la clase minoritaria), deberían considerarse estrategias alternativas para mejorar el recall en ese grupo."
   ]
  },
  {
   "cell_type": "markdown",
   "id": "84af5786-1023-4bbb-adaf-4ce07511b80d",
   "metadata": {},
   "source": [
    "### Next steps and recommendations"
   ]
  },
  {
   "cell_type": "raw",
   "id": "086d0da6-9a16-48c9-bd13-fd88788775aa",
   "metadata": {},
   "source": [
    "Explorar Métodos de Ensamble: Métodos como Random Forests o Gradient Boosting Machines podrían explorarse para mejorar el rendimiento del modelo. Estos métodos suelen ser más robustos y pueden mejorar la precisión de la predicción para la clase minoritaria.\n",
    "\n",
    "Estrategia de Negocio: El banco debería centrarse en optimizar las campañas para los clientes que son más propensos a suscribirse, utilizando las predicciones del modelo para dirigir los esfuerzos hacia los clientes con alta probabilidad de conversión. Al mismo tiempo, los ajustes en el proceso de entrenamiento de los modelos pueden ayudar a identificar mejor a los suscriptores potenciales que pudieron haber sido pasados por alto, asegurando que los esfuerzos de marketing sean inclusivos y efectivos."
   ]
  },
  {
   "cell_type": "code",
   "execution_count": null,
   "id": "91df8a78-4af0-4a65-b7d9-307bfb106fc5",
   "metadata": {},
   "outputs": [],
   "source": []
  }
 ],
 "metadata": {
  "kernelspec": {
   "display_name": "Python 3 (ipykernel)",
   "language": "python",
   "name": "python3"
  },
  "language_info": {
   "codemirror_mode": {
    "name": "ipython",
    "version": 3
   },
   "file_extension": ".py",
   "mimetype": "text/x-python",
   "name": "python",
   "nbconvert_exporter": "python",
   "pygments_lexer": "ipython3",
   "version": "3.11.7"
  }
 },
 "nbformat": 4,
 "nbformat_minor": 5
}
