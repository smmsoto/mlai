{
 "cells": [
  {
   "cell_type": "markdown",
   "id": "81c19177",
   "metadata": {},
   "source": [
    "# Practical Application Assignment 11.1\n",
    "\n",
    "## Used Car Price Prediction"
   ]
  },
  {
   "cell_type": "markdown",
   "id": "23e1bd76",
   "metadata": {},
   "source": [
    "### Business Understanding\n",
    "\n",
    "The goal of this project is to identify key factors that influence the price of used cars. By analyzing the dataset, we aim to build predictive models that estimate the price of a car based on various attributes such as manufacturer, year, mileage, fuel type, and other factors. The results will help a used car dealership better understand what features consumers value and adjust their inventory accordingly."
   ]
  },
  {
   "cell_type": "markdown",
   "id": "6747cc28",
   "metadata": {},
   "source": [
    "### Data Understanding\n",
    "In this section, we load and explore the dataset to understand its structure, check for missing data, and perform some basic analysis."
   ]
  },
  {
   "cell_type": "code",
   "execution_count": null,
   "id": "430c0bf8",
   "metadata": {},
   "outputs": [],
   "source": [
    "\n",
    "import pandas as pd\n",
    "\n",
    "# Load the dataset\n",
    "vehicles_df = pd.read_csv('/mnt/data/vehicles.csv')\n",
    "\n",
    "# Preview the dataset\n",
    "vehicles_df.head()\n",
    "    "
   ]
  },
  {
   "cell_type": "code",
   "execution_count": null,
   "id": "3b7035ec",
   "metadata": {},
   "outputs": [],
   "source": [
    "\n",
    "# Check for missing values\n",
    "vehicles_df.isnull().sum()\n",
    "\n",
    "# Get basic statistics for numerical columns\n",
    "vehicles_df.describe()\n",
    "    "
   ]
  },
  {
   "cell_type": "markdown",
   "id": "71161db3",
   "metadata": {},
   "source": [
    "### Data Preparation\n",
    "We will clean the dataset by handling missing values, encoding categorical variables, and scaling the data for modeling."
   ]
  },
  {
   "cell_type": "code",
   "execution_count": null,
   "id": "bb8ebb90",
   "metadata": {},
   "outputs": [],
   "source": [
    "\n",
    "# Dropping irrelevant columns\n",
    "vehicles_df_cleaned = vehicles_df.drop(columns=['id', 'VIN'])\n",
    "\n",
    "# Handle missing values\n",
    "vehicles_df_cleaned = vehicles_df_cleaned[vehicles_df_cleaned['price'].notna() & (vehicles_df_cleaned['price'] > 0)]\n",
    "vehicles_df_cleaned['year'].fillna(vehicles_df_cleaned['year'].median(), inplace=True)\n",
    "vehicles_df_cleaned['odometer'].fillna(vehicles_df_cleaned['odometer'].median(), inplace=True)\n",
    "\n",
    "# For categorical columns, fill missing values with mode\n",
    "categorical_columns = ['manufacturer', 'fuel', 'transmission', 'drive', 'paint_color', 'title_status', 'type', 'condition']\n",
    "for col in categorical_columns:\n",
    "    vehicles_df_cleaned[col].fillna(vehicles_df_cleaned[col].mode()[0], inplace=True)\n",
    "\n",
    "# Remove outliers in price\n",
    "vehicles_df_cleaned = vehicles_df_cleaned[vehicles_df_cleaned['price'] <= 200000]\n",
    "\n",
    "# One-hot encode categorical variables\n",
    "X = vehicles_df_cleaned.drop(columns=['price', 'model', 'cylinders', 'size'])\n",
    "X = pd.get_dummies(X, drop_first=True)\n",
    "y = vehicles_df_cleaned['price']\n",
    "    "
   ]
  },
  {
   "cell_type": "markdown",
   "id": "2c930768",
   "metadata": {},
   "source": [
    "### Visualizations\n",
    "We will visualize the distribution of continuous variables like price and odometer, as well as categorical variables like manufacturer and fuel type."
   ]
  },
  {
   "cell_type": "code",
   "execution_count": null,
   "id": "d1eaf720",
   "metadata": {},
   "outputs": [],
   "source": [
    "\n",
    "import matplotlib.pyplot as plt\n",
    "import seaborn as sns\n",
    "\n",
    "# Set plot style for readability\n",
    "sns.set(style=\"whitegrid\")\n",
    "\n",
    "# 1. Distribution of Car Prices\n",
    "plt.figure(figsize=(10,6))\n",
    "sns.histplot(vehicles_df_cleaned['price'], bins=50, kde=True, color='blue')\n",
    "plt.title('Distribution of Car Prices', fontsize=15)\n",
    "plt.xlabel('Price', fontsize=12)\n",
    "plt.ylabel('Frequency', fontsize=12)\n",
    "plt.show()\n",
    "\n",
    "# 2. Distribution of Odometer Readings\n",
    "plt.figure(figsize=(10,6))\n",
    "sns.histplot(vehicles_df_cleaned['odometer'], bins=50, kde=True, color='green')\n",
    "plt.title('Distribution of Odometer Readings', fontsize=15)\n",
    "plt.xlabel('Odometer (miles)', fontsize=12)\n",
    "plt.ylabel('Frequency', fontsize=12)\n",
    "plt.show()\n",
    "\n",
    "# 3. Bar plot for Manufacturer Distribution\n",
    "plt.figure(figsize=(12,6))\n",
    "vehicles_df_cleaned['manufacturer'].value_counts().plot(kind='bar', color='orange')\n",
    "plt.title('Distribution of Car Manufacturers', fontsize=15)\n",
    "plt.xlabel('Manufacturer', fontsize=12)\n",
    "plt.ylabel('Count', fontsize=12)\n",
    "plt.xticks(rotation=90)\n",
    "plt.show()\n",
    "\n",
    "# 4. Bar plot for Fuel Type Distribution\n",
    "plt.figure(figsize=(8,6))\n",
    "vehicles_df_cleaned['fuel'].value_counts().plot(kind='bar', color='purple')\n",
    "plt.title('Distribution of Fuel Types', fontsize=15)\n",
    "plt.xlabel('Fuel Type', fontsize=12)\n",
    "plt.ylabel('Count', fontsize=12)\n",
    "plt.xticks(rotation=0)\n",
    "plt.show()\n"
   ]
  },
  {
   "cell_type": "markdown",
   "id": "8e592f4b",
   "metadata": {},
   "source": [
    "### Modeling\n",
    "We will build multiple regression models (Linear, Ridge, Lasso) and tune hyperparameters using cross-validation."
   ]
  },
  {
   "cell_type": "code",
   "execution_count": null,
   "id": "44122c58",
   "metadata": {},
   "outputs": [],
   "source": [
    "\n",
    "from sklearn.model_selection import train_test_split, GridSearchCV\n",
    "from sklearn.linear_model import LinearRegression, Ridge, Lasso\n",
    "from sklearn.metrics import mean_squared_error, r2_score\n",
    "from sklearn.preprocessing import StandardScaler\n",
    "\n",
    "# Split the data\n",
    "X_train, X_test, y_train, y_test = train_test_split(X, y, test_size=0.2, random_state=42)\n",
    "\n",
    "# Scale the features\n",
    "scaler = StandardScaler()\n",
    "X_train_scaled = scaler.fit_transform(X_train)\n",
    "X_test_scaled = scaler.transform(X_test)\n",
    "\n",
    "# 1. Linear Regression\n",
    "linear_model = LinearRegression()\n",
    "linear_model.fit(X_train_scaled, y_train)\n",
    "\n",
    "# 2. Ridge Regression with GridSearchCV\n",
    "ridge_model = Ridge()\n",
    "ridge_params = {'alpha': [0.1, 1, 10, 100]}\n",
    "ridge_grid = GridSearchCV(ridge_model, ridge_params, cv=5)\n",
    "ridge_grid.fit(X_train_scaled, y_train)\n",
    "\n",
    "# 3. Lasso Regression with GridSearchCV\n",
    "lasso_model = Lasso()\n",
    "lasso_params = {'alpha': [0.1, 1, 10, 100]}\n",
    "lasso_grid = GridSearchCV(lasso_model, lasso_params, cv=5)\n",
    "lasso_grid.fit(X_train_scaled, y_train)\n",
    "\n",
    "# Predictions\n",
    "linear_predictions = linear_model.predict(X_test_scaled)\n",
    "ridge_predictions = ridge_grid.best_estimator_.predict(X_test_scaled)\n",
    "lasso_predictions = lasso_grid.best_estimator_.predict(X_test_scaled)\n",
    "    "
   ]
  },
  {
   "cell_type": "markdown",
   "id": "9741a37f",
   "metadata": {},
   "source": [
    "### Evaluation\n",
    "We evaluate the models using R-squared and RMSE."
   ]
  },
  {
   "cell_type": "code",
   "execution_count": null,
   "id": "4670995e",
   "metadata": {},
   "outputs": [],
   "source": [
    "\n",
    "# Calculate R-squared and RMSE for each model\n",
    "linear_r2 = r2_score(y_test, linear_predictions)\n",
    "ridge_r2 = r2_score(y_test, ridge_predictions)\n",
    "lasso_r2 = r2_score(y_test, lasso_predictions)\n",
    "\n",
    "linear_rmse = mean_squared_error(y_test, linear_predictions, squared=False)\n",
    "ridge_rmse = mean_squared_error(y_test, ridge_predictions, squared=False)\n",
    "lasso_rmse = mean_squared_error(y_test, lasso_predictions, squared=False)\n",
    "\n",
    "# Summary of results\n",
    "model_results = pd.DataFrame({\n",
    "    'Model': ['Linear Regression', 'Ridge Regression', 'Lasso Regression'],\n",
    "    'R-squared': [linear_r2, ridge_r2, lasso_r2],\n",
    "    'RMSE': [linear_rmse, ridge_rmse, lasso_rmse]\n",
    "})\n",
    "\n",
    "model_results\n",
    "    "
   ]
  },
  {
   "cell_type": "markdown",
   "id": "b68d317c",
   "metadata": {},
   "source": [
    "### Findings and Recommendations\n",
    "\n",
    "Based on the modeling results, we found that Ridge Regression performed the best with the lowest RMSE and highest R-squared value. This suggests that Ridge is the most reliable model for predicting used car prices based on the available features."
   ]
  }
 ],
 "metadata": {},
 "nbformat": 4,
 "nbformat_minor": 5
}
