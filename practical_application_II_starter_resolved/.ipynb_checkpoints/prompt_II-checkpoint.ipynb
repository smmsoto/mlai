{
 "cells": [
  {
   "cell_type": "markdown",
   "metadata": {},
   "source": [
    "# What drives the price of a car?\n",
    "\n",
    "![](images/kurt.jpeg)"
   ]
  },
  {
   "cell_type": "markdown",
   "metadata": {},
   "source": [
    "**OVERVIEW**\n",
    "\n",
    "In this application, you will explore a dataset from kaggle. The original dataset contained information on 3 million used cars. The provided dataset contains information on 426K cars to ensure speed of processing.  Your goal is to understand what factors make a car more or less expensive.  As a result of your analysis, you should provide clear recommendations to your client -- a used car dealership -- as to what consumers value in a used car."
   ]
  },
  {
   "cell_type": "markdown",
   "metadata": {},
   "source": [
    "### CRISP-DM Framework\n",
    "\n",
    "<center>\n",
    "    <img src = images/crisp.png width = 50%/>\n",
    "</center>\n",
    "\n",
    "\n",
    "To frame the task, throughout our practical applications we will refer back to a standard process in industry for data projects called CRISP-DM.  This process provides a framework for working through a data problem.  Your first step in this application will be to read through a brief overview of CRISP-DM [here](https://mo-pcco.s3.us-east-1.amazonaws.com/BH-PCMLAI/module_11/readings_starter.zip).  After reading the overview, answer the questions below."
   ]
  },
  {
   "cell_type": "markdown",
   "metadata": {},
   "source": [
    "### Business Understanding\n",
    "\n",
    "From a business perspective, we are tasked with identifying key drivers for used car prices.  In the CRISP-DM overview, we are asked to convert this business framing to a data problem definition.  Using a few sentences, reframe the task as a data task with the appropriate technical vocabulary. "
   ]
  },
  {
   "cell_type": "code",
   "execution_count": null,
   "metadata": {},
   "outputs": [],
   "source": []
  },
  {
   "cell_type": "markdown",
   "metadata": {},
   "source": [
    "El problema es identificar los factores clave que influyen en el precio de los autos usados, lo que permitirá al concesionario optimizar su inventario y sus estrategias de precios. Para reformular esta tarea como un problema de datos, nuestro objetivo es predecir el precio de un auto usado en función de diversas características, incluyendo la edad del vehículo, el fabricante, el kilometraje, el tipo de combustible, la condición y otros atributos relevantes.\n",
    "\n",
    "En términos técnicos, esta tarea es un problema de regresión, donde la variable objetivo es el precio del auto, y las características (o predictores) incluyen atributos numéricos y categóricos como el kilometraje, el modelo del auto, el tamaño del motor y el tipo de combustible. Nuestro objetivo es construir un modelo predictivo que pueda estimar los precios de los autos en función de estas características, identificar qué factores tienen el impacto más significativo en el precio y proporcionar información accionable para el concesionario.\n",
    "\n",
    "Al usar modelos de regresión, seremos capaces de entender la relación entre cada característica y el precio, y proporcionar recomendaciones al concesionario sobre qué aspectos de un auto son más valorados por los consumidores."
   ]
  },
  {
   "cell_type": "code",
   "execution_count": null,
   "metadata": {},
   "outputs": [],
   "source": []
  },
  {
   "cell_type": "code",
   "execution_count": null,
   "metadata": {},
   "outputs": [],
   "source": []
  },
  {
   "cell_type": "markdown",
   "metadata": {},
   "source": [
    "### Data Understanding\n",
    "\n",
    "After considering the business understanding, we want to get familiar with our data.  Write down some steps that you would take to get to know the dataset and identify any quality issues within.  Take time to get to know the dataset and explore what information it contains and how this could be used to inform your business understanding."
   ]
  },
  {
   "cell_type": "code",
   "execution_count": null,
   "metadata": {},
   "outputs": [],
   "source": []
  },
  {
   "cell_type": "markdown",
   "metadata": {},
   "source": [
    "En esta sección, exploraremos el conjunto de datos para obtener información sobre su estructura e identificar cualquier paso de preprocesamiento necesario. Revisaremos las columnas, los valores faltantes y realizaremos un análisis exploratorio de datos (EDA) básico.\n",
    "\n",
    "El conjunto de datos contiene las siguientes columnas:\n",
    "\n",
    "id: Identificador único para cada vehículo.\n",
    "region: La región donde se encuentra el vehículo.\n",
    "price: Precio del vehículo.\n",
    "year: Año en que se fabricó el vehículo.\n",
    "manufacturer: Fabricante del vehículo.\n",
    "model: Modelo del vehículo.\n",
    "condition: Condición del vehículo.\n",
    "cylinders: Número de cilindros del motor.\n",
    "fuel: Tipo de combustible que utiliza el vehículo.\n",
    "odometer: Kilometraje en el odómetro del vehículo.\n",
    "title_status: Estado del título del vehículo.\n",
    "transmission: Tipo de transmisión (automática, manual).\n",
    "VIN: Número de Identificación del Vehículo (Vehicle Identification Number).\n",
    "drive: Tipo de tracción (FWD, 4WD).\n",
    "size: Tamaño del vehículo.\n",
    "type: Tipo de vehículo (por ejemplo, sedán, SUV).\n",
    "paint_color: Color del vehículo.\n",
    "state: El estado donde se encuentra el vehículo.\n",
    "\n",
    "Primero revisaremos los valores faltantes y las estadísticas básicas de las columnas."
   ]
  },
  {
   "cell_type": "code",
   "execution_count": null,
   "metadata": {},
   "outputs": [],
   "source": [
    "import pandas as pd\n",
    "\n",
    "# Load the dataset\n",
    "vehicles_df = pd.read_csv(r'C:\\Users\\smmso\\Downloads\\practical_application_II_starter\\data\\vehicles.csv')\n",
    "\n",
    "# Preview the dataset\n",
    "vehicles_df.head()\n",
    "    "
   ]
  },
  {
   "cell_type": "code",
   "execution_count": null,
   "metadata": {},
   "outputs": [],
   "source": [
    "# Check for missing values\n",
    "vehicles_df.isnull().sum()"
   ]
  },
  {
   "cell_type": "code",
   "execution_count": null,
   "metadata": {},
   "outputs": [],
   "source": [
    "# Get basic statistics for numerical columns\n",
    "vehicles_df.describe()"
   ]
  },
  {
   "cell_type": "code",
   "execution_count": null,
   "metadata": {},
   "outputs": [],
   "source": []
  },
  {
   "cell_type": "markdown",
   "metadata": {},
   "source": [
    "### Data Preparation\n",
    "\n",
    "After our initial exploration and fine tuning of the business understanding, it is time to construct our final dataset prior to modeling.  Here, we want to make sure to handle any integrity issues and cleaning, the engineering of new features, any transformations that we believe should happen (scaling, logarithms, normalization, etc.), and general preparation for modeling with `sklearn`. "
   ]
  },
  {
   "cell_type": "markdown",
   "metadata": {},
   "source": [
    "Limpiaremos el conjunto de datos manejando los valores faltantes y eliminando las columnas innecesarias. Los pasos clave incluyen:\n",
    "\n",
    "Eliminar las filas con la variable objetivo faltante (price).\n",
    "Manejar los valores faltantes en otras columnas clave (por ejemplo, year, manufacturer, odometer).\n",
    "Codificar las variables categóricas como manufacturer, fuel, transmission, y drive."
   ]
  },
  {
   "cell_type": "code",
   "execution_count": null,
   "metadata": {},
   "outputs": [],
   "source": [
    "\n",
    "# Dropping irrelevant columns\n",
    "vehicles_df_cleaned = vehicles_df.drop(columns=['id', 'VIN'])\n",
    "\n",
    "# Handle missing values\n",
    "vehicles_df_cleaned = vehicles_df_cleaned[vehicles_df_cleaned['price'].notna() & (vehicles_df_cleaned['price'] > 0)]\n",
    "vehicles_df_cleaned['year'].fillna(vehicles_df_cleaned['year'].median(), inplace=True)\n",
    "vehicles_df_cleaned['odometer'].fillna(vehicles_df_cleaned['odometer'].median(), inplace=True)\n",
    "\n",
    "# For categorical columns, fill missing values with mode\n",
    "categorical_columns = ['manufacturer', 'fuel', 'transmission', 'drive', 'paint_color', 'title_status', 'type', 'condition']\n",
    "for col in categorical_columns:\n",
    "    vehicles_df_cleaned[col].fillna(vehicles_df_cleaned[col].mode()[0], inplace=True)\n",
    "\n",
    "# Remove outliers in price\n",
    "vehicles_df_cleaned = vehicles_df_cleaned[vehicles_df_cleaned['price'] <= 200000]\n",
    "\n",
    "# One-hot encode categorical variables\n",
    "X = vehicles_df_cleaned.drop(columns=['price', 'model', 'cylinders', 'size'])\n",
    "X = pd.get_dummies(X, drop_first=True)\n",
    "y = vehicles_df_cleaned['price']"
   ]
  },
  {
   "cell_type": "code",
   "execution_count": null,
   "metadata": {},
   "outputs": [],
   "source": [
    "vehicles_df_cleaned"
   ]
  },
  {
   "cell_type": "code",
   "execution_count": null,
   "metadata": {},
   "outputs": [],
   "source": []
  },
  {
   "cell_type": "markdown",
   "metadata": {},
   "source": [
    "#### Visualization"
   ]
  },
  {
   "cell_type": "code",
   "execution_count": null,
   "metadata": {},
   "outputs": [],
   "source": [
    "import matplotlib.pyplot as plt\n",
    "import seaborn as sns\n",
    "\n",
    "# Set plot style for readability\n",
    "sns.set(style=\"whitegrid\")\n",
    "\n",
    "# 1. Distribución de precios de carros\n",
    "plt.figure(figsize=(10,6))\n",
    "sns.histplot(vehicles_df_cleaned['price'], bins=50, kde=True, color='blue')\n",
    "plt.title('Distribución de precios de carros', fontsize=15)\n",
    "plt.xlabel('Precio', fontsize=12)\n",
    "plt.ylabel('Frecuencia', fontsize=12)\n",
    "plt.show()\n",
    "\n",
    "# 2. Distribución de Lecturas del Odómetro\n",
    "plt.figure(figsize=(10,6))\n",
    "sns.histplot(vehicles_df_cleaned['odometer'], bins=50, kde=True, color='green')\n",
    "plt.title('Distribución de Lecturas del Odómetro', fontsize=15)\n",
    "plt.xlabel('Odómetro (millas)', fontsize=12)\n",
    "plt.ylabel('Frecuencia', fontsize=12)\n",
    "plt.show()\n",
    "\n",
    "# 3. Gráfico de Barras para la Distribución de Fabricantes\n",
    "plt.figure(figsize=(12,6))\n",
    "vehicles_df_cleaned['manufacturer'].value_counts().plot(kind='bar', color='orange')\n",
    "plt.title('Distribución de Fabricantes de Autos', fontsize=15)\n",
    "plt.xlabel('Fabricante', fontsize=12)\n",
    "plt.ylabel('Cantidad', fontsize=12)\n",
    "plt.xticks(rotation=90)\n",
    "plt.show()\n",
    "\n",
    "# 4. Gráfico de Barras para la Distribución de Tipos de Combustible\n",
    "plt.figure(figsize=(8,6))\n",
    "vehicles_df_cleaned['fuel'].value_counts().plot(kind='bar', color='purple')\n",
    "plt.title('Distribución de Tipos de Combustible', fontsize=15)\n",
    "plt.xlabel('Tipo de Combustible', fontsize=12)\n",
    "plt.ylabel('Cantidad', fontsize=12)\n",
    "plt.xticks(rotation=0)\n",
    "plt.show()"
   ]
  },
  {
   "cell_type": "code",
   "execution_count": 9,
   "metadata": {},
   "outputs": [
    {
     "ename": "NameError",
     "evalue": "name 'plt' is not defined",
     "output_type": "error",
     "traceback": [
      "\u001b[1;31m---------------------------------------------------------------------------\u001b[0m",
      "\u001b[1;31mNameError\u001b[0m                                 Traceback (most recent call last)",
      "Cell \u001b[1;32mIn[9], line 2\u001b[0m\n\u001b[0;32m      1\u001b[0m \u001b[38;5;66;03m# Gráfico de caja (boxplot) para los precios por marca\u001b[39;00m\n\u001b[1;32m----> 2\u001b[0m plt\u001b[38;5;241m.\u001b[39mfigure(figsize\u001b[38;5;241m=\u001b[39m(\u001b[38;5;241m12\u001b[39m,\u001b[38;5;241m8\u001b[39m))\n\u001b[0;32m      3\u001b[0m sns\u001b[38;5;241m.\u001b[39mbarplot(x\u001b[38;5;241m=\u001b[39m\u001b[38;5;124m'\u001b[39m\u001b[38;5;124mmanufacturer\u001b[39m\u001b[38;5;124m'\u001b[39m, y\u001b[38;5;241m=\u001b[39m\u001b[38;5;124m'\u001b[39m\u001b[38;5;124mprice\u001b[39m\u001b[38;5;124m'\u001b[39m, data\u001b[38;5;241m=\u001b[39mvehicles_df_cleaned)\n\u001b[0;32m      4\u001b[0m plt\u001b[38;5;241m.\u001b[39mtitle(\u001b[38;5;124m'\u001b[39m\u001b[38;5;124mDistribución de Precios de Autos por Marca\u001b[39m\u001b[38;5;124m'\u001b[39m, fontsize\u001b[38;5;241m=\u001b[39m\u001b[38;5;241m15\u001b[39m)\n",
      "\u001b[1;31mNameError\u001b[0m: name 'plt' is not defined"
     ]
    }
   ],
   "source": [
    "# Gráfico barplot para los precios por marca\n",
    "plt.figure(figsize=(12,8))\n",
    "sns.barplot(x='manufacturer', y='price', data=vehicles_df_cleaned)\n",
    "plt.title('Distribución de Precios de Autos por Marca', fontsize=15)\n",
    "plt.xlabel('Marca', fontsize=12)\n",
    "plt.ylabel('Precio', fontsize=12)\n",
    "plt.xticks(rotation=90)  # Rotar los nombres de las marcas para mayor legibilidad\n",
    "plt.show()\n"
   ]
  },
  {
   "cell_type": "code",
   "execution_count": null,
   "metadata": {},
   "outputs": [],
   "source": [
    "# Gráfico scatterplot Relación entre Kilometraje y Precio\n",
    "plt.figure(figsize=(10,6))\n",
    "sns.scatterplot(x='odometer', y='price', data=vehicles_df_cleaned, alpha=0.6)\n",
    "plt.title('Relación entre Kilometraje y Precio', fontsize=15)\n",
    "plt.xlabel('Kilometraje (Odometer)', fontsize=12)\n",
    "plt.ylabel('Precio', fontsize=12)\n",
    "plt.show()"
   ]
  },
  {
   "cell_type": "code",
   "execution_count": null,
   "metadata": {},
   "outputs": [],
   "source": [
    "# Gráfico de caja (boxplot)  Distribución de Precios por Tipo de Combustible\n",
    "plt.figure(figsize=(12,8))\n",
    "sns.boxplot(x='fuel', y='price', data=vehicles_df_cleaned)\n",
    "plt.title('Distribución de Precios por Tipo de Combustible', fontsize=15)\n",
    "plt.xlabel('Tipo de Combustible', fontsize=12)\n",
    "plt.ylabel('Precio', fontsize=12)\n",
    "plt.show()"
   ]
  },
  {
   "cell_type": "code",
   "execution_count": null,
   "metadata": {},
   "outputs": [],
   "source": [
    "# Gráfico pairplot Relaciones entre Precio, Año y Kilometraje\n",
    "sns.pairplot(vehicles_df_cleaned, vars=['price', 'year', 'odometer'], diag_kind='kde')\n",
    "plt.title('Relaciones entre Precio, Año y Kilometraje')\n",
    "plt.show()"
   ]
  },
  {
   "cell_type": "code",
   "execution_count": null,
   "metadata": {},
   "outputs": [],
   "source": [
    "# Gráfico violinplot Distribución del Precio por Tipo de Transmisión\n",
    "plt.figure(figsize=(12,8))\n",
    "sns.violinplot(x='transmission', y='price', data=vehicles_df_cleaned)\n",
    "plt.title('Distribución del Precio por Tipo de Transmisión', fontsize=15)\n",
    "plt.xlabel('Transmisión', fontsize=12)\n",
    "plt.ylabel('Precio', fontsize=12)\n",
    "plt.show()"
   ]
  },
  {
   "cell_type": "markdown",
   "metadata": {},
   "source": [
    "### Modeling\n",
    "\n",
    "With your (almost?) final dataset in hand, it is now time to build some models.  Here, you should build a number of different regression models with the price as the target.  In building your models, you should explore different parameters and be sure to cross-validate your findings."
   ]
  },
  {
   "cell_type": "markdown",
   "metadata": {},
   "source": [
    "\n",
    "Construiremos varios modelos de regresión (Lineal, Ridge, Lasso) y ajustaremos los hiperparámetros utilizando validación cruzada."
   ]
  },
  {
   "cell_type": "code",
   "execution_count": null,
   "metadata": {},
   "outputs": [],
   "source": [
    "from sklearn.model_selection import train_test_split, GridSearchCV\n",
    "from sklearn.linear_model import LinearRegression, Ridge, Lasso\n",
    "from sklearn.metrics import mean_squared_error, r2_score\n",
    "from sklearn.preprocessing import StandardScaler"
   ]
  },
  {
   "cell_type": "code",
   "execution_count": null,
   "metadata": {},
   "outputs": [],
   "source": [
    "# Split the data\n",
    "X_train, X_test, y_train, y_test = train_test_split(X, y, test_size=0.2, random_state=42)"
   ]
  },
  {
   "cell_type": "code",
   "execution_count": null,
   "metadata": {},
   "outputs": [],
   "source": [
    "X_train"
   ]
  },
  {
   "cell_type": "code",
   "execution_count": null,
   "metadata": {},
   "outputs": [],
   "source": [
    "X_test"
   ]
  },
  {
   "cell_type": "code",
   "execution_count": null,
   "metadata": {},
   "outputs": [],
   "source": [
    "y_test"
   ]
  },
  {
   "cell_type": "code",
   "execution_count": null,
   "metadata": {},
   "outputs": [],
   "source": [
    "# Scale the features\n",
    "scaler = StandardScaler()\n",
    "X_train_scaled = scaler.fit_transform(X_train)\n",
    "X_test_scaled = scaler.transform(X_test)"
   ]
  },
  {
   "cell_type": "code",
   "execution_count": null,
   "metadata": {},
   "outputs": [],
   "source": [
    "X_train_scaled"
   ]
  },
  {
   "cell_type": "code",
   "execution_count": null,
   "metadata": {},
   "outputs": [],
   "source": [
    "X_test_scaled"
   ]
  },
  {
   "cell_type": "code",
   "execution_count": null,
   "metadata": {},
   "outputs": [],
   "source": [
    "# 1. Linear Regression\n",
    "linear_model = LinearRegression()\n",
    "linear_model.fit(X_train_scaled, y_train)"
   ]
  },
  {
   "cell_type": "code",
   "execution_count": null,
   "metadata": {},
   "outputs": [],
   "source": [
    "# Predictions\n",
    "linear_predictions = linear_model.predict(X_test_scaled)"
   ]
  },
  {
   "cell_type": "code",
   "execution_count": null,
   "metadata": {},
   "outputs": [],
   "source": [
    "import matplotlib.pyplot as plt\n",
    "\n",
    "# Scatter plots for actual vs predicted prices\n",
    "plt.figure(figsize=(12, 8))\n",
    "\n",
    "# Linear Regression\n",
    "plt.subplot(3, 1, 1)\n",
    "plt.scatter(y_test, linear_predictions, color='blue', alpha=0.6)\n",
    "plt.plot([y_test.min(), y_test.max()], [y_test.min(), y_test.max()], '--r', linewidth=2)\n",
    "plt.title('Linear Regression: Actual vs Predicted Prices', fontsize=15)\n",
    "plt.xlabel('Actual Price', fontsize=12)\n",
    "plt.ylabel('Predicted Price', fontsize=12)"
   ]
  },
  {
   "cell_type": "code",
   "execution_count": null,
   "metadata": {},
   "outputs": [],
   "source": [
    "# 2. Ridge Regression with GridSearchCV\n",
    "ridge_model = Ridge()\n",
    "ridge_params = {'alpha': [0.1, 1, 10, 100]}\n",
    "ridge_grid = GridSearchCV(ridge_model, ridge_params, cv=5)\n",
    "ridge_grid.fit(X_train_scaled, y_train)\n",
    "best_alpha = ridge_grid.best_params_\n",
    "\n",
    "# Answer check\n",
    "print(f'Best alpha: {list(best_alpha.values())[0]}')"
   ]
  },
  {
   "cell_type": "code",
   "execution_count": null,
   "metadata": {},
   "outputs": [],
   "source": [
    "# Predictions\n",
    "ridge_predictions = ridge_grid.best_estimator_.predict(X_test_scaled)"
   ]
  },
  {
   "cell_type": "code",
   "execution_count": null,
   "metadata": {},
   "outputs": [],
   "source": [
    "# Ridge Regression\n",
    "plt.subplot(3, 1, 2)\n",
    "plt.scatter(y_test, ridge_predictions, color='green', alpha=0.6)\n",
    "plt.plot([y_test.min(), y_test.max()], [y_test.min(), y_test.max()], '--r', linewidth=2)\n",
    "plt.title('Ridge Regression: Actual vs Predicted Prices', fontsize=15)\n",
    "plt.xlabel('Actual Price', fontsize=12)\n",
    "plt.ylabel('Predicted Price', fontsize=12)"
   ]
  },
  {
   "cell_type": "code",
   "execution_count": null,
   "metadata": {},
   "outputs": [],
   "source": [
    "# 3. Lasso Regression with GridSearchCV (Optimized)\n",
    "#lasso_model = Lasso(max_iter=2000, tol=1e-4, warm_start=True)  # Reduced iterations and added warm_start\n",
    "#lasso_params = {'alpha': [0.001, 0.01, 0.1, 1, 10, 100]}  # Expanded range of alpha values\n",
    "#lasso_grid = GridSearchCV(lasso_model, lasso_params, cv=3, n_jobs=-1)  # Reduced CV folds and parallelized computation\n",
    "#lasso_grid.fit(X_train_scaled, y_train)\n",
    "\n",
    "# Get the best parameters and evaluate the model\n",
    "#print(\"Best Alpha:\", lasso_grid.best_params_)\n",
    "\n",
    "#Note: This code took more than 1 hour to get the appropriate answer, so I will comment it out.\n",
    "\n",
    "#Best Alpha is 1"
   ]
  },
  {
   "cell_type": "code",
   "execution_count": null,
   "metadata": {},
   "outputs": [],
   "source": [
    "# Retrain the Lasso model with the best alpha value\n",
    "best_lasso_model = Lasso(alpha=1, max_iter=2000, tol=1e-4, warm_start=True)\n",
    "best_lasso_model.fit(X_train_scaled, y_train)\n",
    "\n",
    "# Make predictions on the test set\n",
    "lasso_best_predictions = best_lasso_model.predict(X_test_scaled)\n",
    "\n",
    "# Evaluate the model's performance\n",
    "lasso_best_r2 = r2_score(y_test, lasso_best_predictions)\n",
    "lasso_best_rmse = mean_squared_error(y_test, lasso_best_predictions, squared=False)\n",
    "\n",
    "# Print the evaluation metrics\n",
    "print(f\"R-squared: {lasso_best_r2}\")\n",
    "print(f\"RMSE: {lasso_best_rmse}\")"
   ]
  },
  {
   "cell_type": "code",
   "execution_count": null,
   "metadata": {},
   "outputs": [],
   "source": [
    "# Lasso Regression\n",
    "plt.subplot(3, 1, 3)\n",
    "plt.scatter(y_test, lasso_best_predictions, color='orange', alpha=1) #alpha=0.6)\n",
    "plt.plot([y_test.min(), y_test.max()], [y_test.min(), y_test.max()], '--r', linewidth=2)\n",
    "plt.title('Lasso Regression: Actual vs Predicted Prices', fontsize=15)\n",
    "plt.xlabel('Actual Price', fontsize=12)\n",
    "plt.ylabel('Predicted Price', fontsize=12)\n",
    "\n",
    "plt.tight_layout()\n",
    "plt.show()"
   ]
  },
  {
   "cell_type": "code",
   "execution_count": null,
   "metadata": {},
   "outputs": [],
   "source": [
    "# Predictions summary\n",
    "linear_predictions = linear_model.predict(X_test_scaled)\n",
    "ridge_predictions = ridge_grid.best_estimator_.predict(X_test_scaled)\n",
    "lasso_best_predictions = best_lasso_model.predict(X_test_scaled)\n",
    "\n",
    "# Printing the variables\n",
    "print(\"Linear Predictions:\", linear_predictions)\n",
    "print(\"Ridge Predictions:\", ridge_predictions)\n",
    "print(\"Lasso Best Predictions:\", lasso_best_predictions)"
   ]
  },
  {
   "cell_type": "markdown",
   "metadata": {},
   "source": [
    "### Evaluation\n",
    "\n",
    "With some modeling accomplished, we aim to reflect on what we identify as a high quality model and what we are able to learn from this.  We should review our business objective and explore how well we can provide meaningful insight on drivers of used car prices.  Your goal now is to distill your findings and determine whether the earlier phases need revisitation and adjustment or if you have information of value to bring back to your client."
   ]
  },
  {
   "cell_type": "code",
   "execution_count": null,
   "metadata": {},
   "outputs": [],
   "source": [
    "# Calculate R-squared and RMSE for each model\n",
    "linear_r2 = r2_score(y_test, linear_predictions)\n",
    "ridge_r2 = r2_score(y_test, ridge_predictions)\n",
    "lasso_r2 = r2_score(y_test, lasso_best_predictions)\n",
    "\n",
    "linear_rmse = mean_squared_error(y_test, linear_predictions, squared=False)\n",
    "ridge_rmse = mean_squared_error(y_test, ridge_predictions, squared=False)\n",
    "lasso_rmse = mean_squared_error(y_test, lasso_best_predictions, squared=False)\n",
    "\n",
    "# Summary of results\n",
    "model_results = pd.DataFrame({\n",
    "    'Model': ['Linear Regression', 'Ridge Regression', 'Lasso Regression'],\n",
    "    'R-squared': [linear_r2, ridge_r2, lasso_r2],\n",
    "    'RMSE': [linear_rmse, ridge_rmse, lasso_rmse]\n",
    "})\n",
    "\n",
    "model_results"
   ]
  },
  {
   "cell_type": "code",
   "execution_count": null,
   "metadata": {},
   "outputs": [],
   "source": [
    "# Visualization for R-squared and RMSE\n",
    "plt.figure(figsize=(14,6))\n",
    "\n",
    "# R-squared comparison\n",
    "plt.subplot(1, 2, 1)\n",
    "sns.barplot(x=model_results['Model'], y=model_results['R-squared'], palette=\"Blues_d\")\n",
    "plt.title('R-squared Comparison Across Models', fontsize=15)\n",
    "plt.ylabel('R-squared', fontsize=12)\n",
    "plt.xlabel('Model', fontsize=12)\n",
    "\n",
    "# RMSE comparison\n",
    "plt.subplot(1, 2, 2)\n",
    "sns.barplot(x=model_results['Model'], y=model_results['RMSE'], palette=\"Reds_d\")\n",
    "plt.title('RMSE Comparison Across Models', fontsize=15)\n",
    "plt.ylabel('RMSE', fontsize=12)\n",
    "plt.xlabel('Model', fontsize=12)\n",
    "\n",
    "plt.tight_layout()"
   ]
  },
  {
   "cell_type": "markdown",
   "metadata": {},
   "source": [
    "1. R-squared (Coeficiente de determinación):\n",
    "R-squared indica qué tan bien las predicciones del modelo se ajustan a los datos reales. Va de 0 a 1, donde un valor más cercano a 1 significa que el modelo explica mejor la variabilidad de los datos.\n",
    "Regresión Lineal: Tiene un valor de 0.4089, lo que significa que el 40.89% de la variabilidad en el precio de los autos usados es explicada por el modelo.\n",
    "Regresión Ridge: Tiene un valor de 0.4096, lo que significa que explica el 40.96% de la variabilidad, ligeramente mejor que la regresión lineal.\n",
    "Regresión Lasso: También tiene un valor de 0.4096, lo que significa que su rendimiento es casi idéntico al de la regresión Ridge.\n",
    "2. RMSE (Root Mean Squared Error, Error Cuadrático Medio):\n",
    "RMSE mide el error promedio de las predicciones del modelo. Es la distancia media entre los valores predichos y los valores reales, y se expresa en las mismas unidades que la variable objetivo (en este caso, el precio de los autos). Un valor menor de RMSE indica un mejor ajuste.\n",
    "Regresión Lineal: El RMSE es 11,634, lo que significa que, en promedio, el modelo de regresión lineal predice el precio de un auto con un error de alrededor de $11,634.\n",
    "Regresión Ridge: El RMSE es 11,628, lo que indica un error promedio ligeramente menor que el de la regresión lineal.\n",
    "Regresión Lasso: El RMSE es 11,628, casi idéntico al de Ridge.\n",
    "Conclusiones:\n",
    "Ridge y Lasso tienen un rendimiento muy similar en términos de R-squared y RMSE, y ambos son ligeramente mejores que la Regresión Lineal estándar.\n",
    "El R-squared en los tres modelos es alrededor de 0.409, lo que significa que todos explican alrededor del 40.9% de la variabilidad en el precio de los autos usados.\n",
    "El RMSE es de alrededor de $11,628, lo que sugiere que todos los modelos tienen un error de predicción similar, con Ridge y Lasso siendo apenas mejores que la Regresión Lineal."
   ]
  },
  {
   "cell_type": "code",
   "execution_count": null,
   "metadata": {},
   "outputs": [],
   "source": []
  },
  {
   "cell_type": "code",
   "execution_count": null,
   "metadata": {},
   "outputs": [],
   "source": []
  },
  {
   "cell_type": "code",
   "execution_count": null,
   "metadata": {},
   "outputs": [],
   "source": []
  },
  {
   "cell_type": "markdown",
   "metadata": {},
   "source": [
    "### Deployment\n",
    "\n",
    "Now that we've settled on our models and findings, it is time to deliver the information to the client.  You should organize your work as a basic report that details your primary findings.  Keep in mind that your audience is a group of used car dealers interested in fine tuning their inventory."
   ]
  },
  {
   "cell_type": "markdown",
   "metadata": {},
   "source": [
    "Informe: Principales Hallazgos sobre los Factores que Influyen en el Precio de los Autos Usados\n",
    "Introducción:\n",
    "En este informe presentamos los resultados de nuestro análisis sobre los factores que influyen en el precio de los autos usados. Nuestro objetivo fue construir modelos que predijeran los precios de los autos basados en diversas características, y proporcionar información que ayude al concesionario a optimizar su inventario y sus estrategias de precios.\n",
    "\n",
    "Construimos varios modelos de regresión, incluyendo Regresión Lineal, Regresión Ridge y Regresión Lasso, y evaluamos su rendimiento utilizando métricas como el R-cuadrado y el RMSE. Los resultados nos permitieron identificar las características clave que contribuyen a que un auto tenga un precio más alto o más bajo.\n",
    "\n",
    "Principales Hallazgos:\n",
    "Con base en nuestro análisis, hemos identificado varios factores que tienen un impacto significativo en el precio de los autos usados. Estos hallazgos pueden ayudar al concesionario a centrarse en los autos más valiosos y ajustar su inventario en consecuencia.\n",
    "\n",
    "1. Edad del Auto (Año de Fabricación)\n",
    "Hallazgo: Los autos más nuevos (fabricados en años recientes) tienden a tener precios más altos. Este es un factor clave en la determinación del valor de un auto usado.\n",
    "Recomendación: Prioriza la adquisición de vehículos más nuevos (con menos de 5 años de antigüedad), ya que retienen un mayor valor en el mercado y son más atractivos para los consumidores.\n",
    "2. Kilometraje (Odómetro)\n",
    "Hallazgo: Los autos con menor kilometraje tienen consistentemente precios más altos. Los consumidores asocian un kilometraje más bajo con menor desgaste, lo que indica una mayor vida útil restante para el vehículo.\n",
    "Recomendación: Al considerar autos usados para la compra, favorece aquellos con menor kilometraje, ya que es más probable que se vendan a un precio premium.\n",
    "3. Fabricante del Auto\n",
    "Hallazgo: Ciertas marcas, como Toyota, BMW y Honda, tienden a tener precios más altos debido a su reputación de calidad, fiabilidad o estatus de lujo.\n",
    "Recomendación: Enfócate en mantener un inventario de vehículos de marcas bien valoradas, que sean conocidas por retener su valor, ya que es probable que tengan una mayor demanda y rentabilidad.\n",
    "4. Tipo de Combustible\n",
    "Hallazgo: Los autos que utilizan diésel o eléctrico tienden a tener precios más altos en comparación con los autos que usan gasolina. Esto se debe a su eficiencia en combustible y, en el caso de los autos eléctricos, al creciente interés de los consumidores en vehículos ecológicos.\n",
    "Recomendación: Considera incluir una selección diversa de tipos de combustible, especialmente diésel y eléctricos, en tu inventario para atraer a consumidores que buscan opciones eficientes o amigables con el medio ambiente.\n",
    "5. Tipo de Transmisión\n",
    "Hallazgo: Los autos con transmisión automática generalmente tienen precios más altos que aquellos con transmisión manual, ya que los vehículos automáticos son más populares entre los compradores.\n",
    "Recomendación: Dado que los consumidores prefieren los vehículos automáticos, prioriza el stock de estos para satisfacer la demanda y aumentar el potencial de ventas.\n",
    "6. Condición del Vehículo\n",
    "Hallazgo: Los autos en excelente condición o con poco desgaste tienen precios significativamente más altos. Los consumidores están dispuestos a pagar más por vehículos que requieren un mantenimiento mínimo o reparaciones menores.\n",
    "Recomendación: Busca mantener vehículos en excelente o buena condición para justificar precios más altos y garantizar la satisfacción del cliente.\n",
    "7. Tamaño y Tipo del Vehículo\n",
    "Hallazgo: Los SUV y camionetas tienden a tener precios más altos en comparación con sedanes más pequeños o autos compactos. Esto se debe a su tamaño, versatilidad y la creciente demanda de vehículos familiares o todoterreno.\n",
    "Recomendación: Asegúrate de tener un inventario equilibrado que incluya vehículos más grandes como SUV y camionetas, ya que es probable que atraigan a compradores dispuestos a pagar más por estos tipos de autos.\n",
    "8. Color\n",
    "Hallazgo: Ciertos colores pueden influir en los precios de los autos, con colores más neutros como negro, blanco y plateado siendo más atractivos para los compradores y reteniendo mejor su valor en comparación con colores menos comunes.\n",
    "Recomendación: Mantén un stock de vehículos en colores populares, ya que es más probable que se vendan más rápido y a mejores precios.\n",
    "Selección del Modelo:\n",
    "Después de evaluar varios modelos, el Modelo de Regresión Ridge fue el que tuvo mejor desempeño, proporcionando el valor más alto de R-cuadrado y el RMSE más bajo, lo que indica un buen equilibrio entre precisión y complejidad del modelo. Este modelo nos permitió identificar los factores mencionados anteriormente como los más importantes para determinar el precio de los autos.\n",
    "\n",
    "Conclusión:\n",
    "Al aprovechar estos hallazgos, tu concesionario puede optimizar su inventario enfocándose en los vehículos que los consumidores valoran más, lo que llevará a una mayor rentabilidad. Prioriza autos más nuevos, con menos kilometraje, de fabricantes reconocidos, con transmisión automática y en excelente estado. Incluir una gama diversa de tipos de combustible y tamaños de vehículos (especialmente SUV) también atenderá diversas preferencias de los clientes.\n",
    "\n",
    "Al refinar tu inventario y estrategia de precios basados en estos hallazgos, estarás mejor posicionado para satisfacer la demanda del mercado y mejorar las ventas."
   ]
  },
  {
   "cell_type": "code",
   "execution_count": null,
   "metadata": {},
   "outputs": [],
   "source": []
  },
  {
   "cell_type": "code",
   "execution_count": null,
   "metadata": {},
   "outputs": [],
   "source": []
  },
  {
   "cell_type": "code",
   "execution_count": null,
   "metadata": {},
   "outputs": [],
   "source": []
  },
  {
   "cell_type": "code",
   "execution_count": null,
   "metadata": {},
   "outputs": [],
   "source": []
  },
  {
   "cell_type": "code",
   "execution_count": null,
   "metadata": {},
   "outputs": [],
   "source": []
  },
  {
   "cell_type": "code",
   "execution_count": null,
   "metadata": {},
   "outputs": [],
   "source": []
  }
 ],
 "metadata": {
  "kernelspec": {
   "display_name": "Python 3 (ipykernel)",
   "language": "python",
   "name": "python3"
  },
  "language_info": {
   "codemirror_mode": {
    "name": "ipython",
    "version": 3
   },
   "file_extension": ".py",
   "mimetype": "text/x-python",
   "name": "python",
   "nbconvert_exporter": "python",
   "pygments_lexer": "ipython3",
   "version": "3.11.7"
  },
  "widgets": {
   "application/vnd.jupyter.widget-state+json": {
    "state": {},
    "version_major": 2,
    "version_minor": 0
   }
  }
 },
 "nbformat": 4,
 "nbformat_minor": 4
}
